{
 "cells": [
  {
   "cell_type": "code",
   "execution_count": 1,
   "metadata": {
    "collapsed": true
   },
   "outputs": [],
   "source": [
    "from __future__ import print_function "
   ]
  },
  {
   "cell_type": "markdown",
   "metadata": {},
   "source": [
    "## Problem\n",
    "def sol2(nums):\n",
    "    # fast = slow = 0\n",
    "    slow = nums[0] \n",
    "    fast = nums[slow] \n",
    "    \n",
    "    while slow != fast: \n",
    "        slow = nums[slow] \n",
    "        fast = nums[nums[fast]]\n",
    "    return slow "
   ]
  },
  {
   "cell_type": "code",
   "execution_count": 5,
   "metadata": {},
   "outputs": [
    {
     "name": "stdout",
     "output_type": "stream",
     "text": [
      "1\n",
      "3\n",
      "1\n"
     ]
    }
   ],
   "source": [
    "def sol2(nums):\n",
    "    # fast = slow = 0\n",
    "    slow = nums[0] \n",
    "    fast = nums[slow] \n",
    "    \n",
    "    while slow != fast: \n",
    "        slow = nums[slow] \n",
    "        fast = nums[nums[fast]]\n",
    "    return nums[slow] \n",
    "\n",
    "nums = [1, 2, 3, 1]\n",
    "print(sol2(nums))\n",
    "\n",
    "nums = [3, 3, 3, 3]\n",
    "print(sol2(nums))\n",
    "\n",
    "nums = [1, 1, 2, 2]\n",
    "print(sol2(nums))"
   ]
  },
  {
   "cell_type": "code",
   "execution_count": 3,
   "metadata": {},
   "outputs": [
    {
     "data": {
      "text/plain": [
       "4"
      ]
     },
     "execution_count": 3,
     "metadata": {},
     "output_type": "execute_result"
    }
   ],
   "source": [
    "def mysqrt(n): \n",
    "    if n < 2: return n \n",
    "    l = 1\n",
    "    r = n - 1\n",
    "    while l < r: \n",
    "        m = l + (r - l) /2 \n",
    "        if m > n/m: \n",
    "            r = m - 1\n",
    "        else: \n",
    "            l = m \n",
    "    return r \n",
    "\n",
    "mysqrt(16) "
   ]
  },
  {
   "cell_type": "code",
   "execution_count": 11,
   "metadata": {},
   "outputs": [
    {
     "name": "stdout",
     "output_type": "stream",
     "text": [
      "-1\n"
     ]
    }
   ],
   "source": [
    "# binary search index of first elem \n",
    "def mybs(nums, a): \n",
    "    if not nums: return -1 \n",
    "    l = 0 \n",
    "    r = len(nums) - 1 \n",
    "    while l < r: \n",
    "        if a < nums[l] or a > nums[r]: return -1 \n",
    "        m = l + (r-l)/2 \n",
    "        if a == nums[m]: \n",
    "            r = m \n",
    "        elif a < nums[m]:\n",
    "            l = m - 1\n",
    "        else: \n",
    "            l = m + 1\n",
    "    return l if nums[l] == a else -1 \n",
    "            \n",
    "    \n",
    "print(mybs([0, 1, 1,1 ,1, 2, 2, 2, 2, 3], .5))"
   ]
  },
  {
   "cell_type": "markdown",
   "metadata": {
    "collapsed": true
   },
   "source": [
    "## Median of an array with incomming data \n",
    "Write a class with following methods: \n",
    "1. add one more data at a time \n",
    "2. find median of all numbers \n",
    "both should work in O(log n) \n"
   ]
  },
  {
   "cell_type": "code",
   "execution_count": null,
   "metadata": {
    "collapsed": true
   },
   "outputs": [],
   "source": [
    "# IDEAs"
   ]
  }
 ],
 "metadata": {
  "kernelspec": {
   "display_name": "Python 2",
   "language": "python",
   "name": "python2"
  },
  "language_info": {
   "codemirror_mode": {
    "name": "ipython",
    "version": 2
   },
   "file_extension": ".py",
   "mimetype": "text/x-python",
   "name": "python",
   "nbconvert_exporter": "python",
   "pygments_lexer": "ipython2",
   "version": "2.7.13"
  },
  "latex_envs": {
   "LaTeX_envs_menu_present": true,
   "autoclose": false,
   "autocomplete": true,
   "bibliofile": "biblio.bib",
   "cite_by": "apalike",
   "current_citInitial": 1,
   "eqLabelWithNumbers": true,
   "eqNumInitial": 1,
   "hotkeys": {
    "equation": "Ctrl-E",
    "itemize": "Ctrl-I"
   },
   "labels_anchors": false,
   "latex_user_defs": false,
   "report_style_numbering": false,
   "user_envs_cfg": false
  },
  "toc": {
   "nav_menu": {},
   "number_sections": true,
   "sideBar": true,
   "skip_h1_title": false,
   "title_cell": "Table of Contents",
   "title_sidebar": "Contents",
   "toc_cell": false,
   "toc_position": {},
   "toc_section_display": true,
   "toc_window_display": true
  }
 },
 "nbformat": 4,
 "nbformat_minor": 2
}
