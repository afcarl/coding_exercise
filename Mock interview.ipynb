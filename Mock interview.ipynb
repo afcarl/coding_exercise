{
 "cells": [
  {
   "cell_type": "code",
   "execution_count": 1,
   "metadata": {
    "collapsed": true
   },
   "outputs": [],
   "source": [
    "from __future__ import print_function "
   ]
  },
  {
   "cell_type": "markdown",
   "metadata": {},
   "source": [
    "## Problem\n",
    "def sol2(nums):\n",
    "    # fast = slow = 0\n",
    "    slow = nums[0] \n",
    "    fast = nums[slow] \n",
    "    \n",
    "    while slow != fast: \n",
    "        slow = nums[slow] \n",
    "        fast = nums[nums[fast]]\n",
    "    return slow "
   ]
  },
  {
   "cell_type": "code",
   "execution_count": 5,
   "metadata": {},
   "outputs": [
    {
     "name": "stdout",
     "output_type": "stream",
     "text": [
      "1\n",
      "3\n",
      "1\n"
     ]
    }
   ],
   "source": [
    "def sol2(nums):\n",
    "    # fast = slow = 0\n",
    "    slow = nums[0] \n",
    "    fast = nums[slow] \n",
    "    \n",
    "    while slow != fast: \n",
    "        slow = nums[slow] \n",
    "        fast = nums[nums[fast]]\n",
    "    return nums[slow] \n",
    "\n",
    "nums = [1, 2, 3, 1]\n",
    "print(sol2(nums))\n",
    "\n",
    "nums = [3, 3, 3, 3]\n",
    "print(sol2(nums))\n",
    "\n",
    "nums = [1, 1, 2, 2]\n",
    "print(sol2(nums))"
   ]
  },
  {
   "cell_type": "code",
   "execution_count": 3,
   "metadata": {},
   "outputs": [
    {
     "data": {
      "text/plain": [
       "4"
      ]
     },
     "execution_count": 3,
     "metadata": {},
     "output_type": "execute_result"
    }
   ],
   "source": [
    "def mysqrt(n): \n",
    "    if n < 2: return n \n",
    "    l = 1\n",
    "    r = n - 1\n",
    "    while l < r: \n",
    "        m = l + (r - l) /2 \n",
    "        if m > n/m: \n",
    "            r = m - 1\n",
    "        else: \n",
    "            l = m \n",
    "    return r \n",
    "\n",
    "mysqrt(16) "
   ]
  },
  {
   "cell_type": "code",
   "execution_count": 11,
   "metadata": {},
   "outputs": [
    {
     "name": "stdout",
     "output_type": "stream",
     "text": [
      "-1\n"
     ]
    }
   ],
   "source": [
    "# binary search index of first elem \n",
    "def mybs(nums, a): \n",
    "    if not nums: return -1 \n",
    "    l = 0 \n",
    "    r = len(nums) - 1 \n",
    "    while l < r: \n",
    "        if a < nums[l] or a > nums[r]: return -1 \n",
    "        m = l + (r-l)/2 \n",
    "        if a == nums[m]: \n",
    "            r = m \n",
    "        elif a < nums[m]:\n",
    "            l = m - 1\n",
    "        else: \n",
    "            l = m + 1\n",
    "    return l if nums[l] == a else -1 \n",
    "            \n",
    "    \n",
    "print(mybs([0, 1, 1,1 ,1, 2, 2, 2, 2, 3], .5))"
   ]
  },
  {
   "cell_type": "markdown",
   "metadata": {
    "collapsed": true
   },
   "source": [
    "## Median of an array with incomming data \n",
    "Write a class with following methods: \n",
    "1. add one more data at a time \n",
    "2. find median of all numbers \n",
    "both should work in O(log n) \n",
    "\n",
    "**IDEA**: \n",
    "* Using two priority queues, one to keep the small half of numbers, one to keep the big half of numbers. \n",
    "\n",
    "* number of elems in the big half is equal or 1 greater than number in the small half. \n",
    "\n",
    "* small half is a max heap (since in Python we don't have max heap, we instead store -of elemens) \n",
    "\n",
    "* big half is a min heap \n",
    "\n",
    "* add one element: \n",
    "    * if this element < top of big half -> append minus of it to the small half \n",
    "    * otherwise, append minus of this elem to the big half \n",
    "    * remember to balance two halves \n",
    "* get median: \n",
    "    * if two half have same number of elems, get tops of two halves then take average \n",
    "    * if the big half has more elem, get top of the big half \n",
    "    \n",
    "\n"
   ]
  },
  {
   "cell_type": "code",
   "execution_count": 11,
   "metadata": {},
   "outputs": [
    {
     "name": "stdout",
     "output_type": "stream",
     "text": [
      "1\n",
      "1.5\n",
      "2\n",
      "1.5\n",
      "1\n"
     ]
    }
   ],
   "source": [
    "from heapq import * \n",
    "class MedElem(object): \n",
    "    def __init__(self): \n",
    "        self.small = [] \n",
    "        self.big = [] \n",
    "    \n",
    "    def add(self, n): \n",
    "        if len(self.big) == 0 or n >= self.big[0]:\n",
    "            heappush(self.big, n) \n",
    "            if len(self.big) - len(self.small) == 2: \n",
    "                heappush(self.small, -heappop(self.big))\n",
    "        else: \n",
    "            heappush(self.small, -n) \n",
    "            if len(self.big) < len(self.small): \n",
    "                heappush(self.big, -heappop(self.small))            \n",
    "    \n",
    "    def median(self): \n",
    "        if len(self.small) == len(self.big) == 0: \n",
    "            return None \n",
    "        if len(self.small) == len(self.big):\n",
    "            return 0.5*(self.big[0] - self.small[0]) \n",
    "        return self.big[0]\n",
    "    \n",
    "A = MedElem() \n",
    "A.add(1) \n",
    "print(A.median())\n",
    "A.add(2) \n",
    "print(A.median())\n",
    "A.add(10) \n",
    "print(A.median())\n",
    "A.add(-1) \n",
    "print(A.median())\n",
    "A.add(0) \n",
    "print(A.median())\n",
    "\n"
   ]
  },
  {
   "cell_type": "code",
   "execution_count": null,
   "metadata": {
    "collapsed": true
   },
   "outputs": [],
   "source": []
  }
 ],
 "metadata": {
  "kernelspec": {
   "display_name": "Python 2",
   "language": "python",
   "name": "python2"
  },
  "language_info": {
   "codemirror_mode": {
    "name": "ipython",
    "version": 2
   },
   "file_extension": ".py",
   "mimetype": "text/x-python",
   "name": "python",
   "nbconvert_exporter": "python",
   "pygments_lexer": "ipython2",
   "version": "2.7.13"
  },
  "latex_envs": {
   "LaTeX_envs_menu_present": true,
   "autoclose": false,
   "autocomplete": true,
   "bibliofile": "biblio.bib",
   "cite_by": "apalike",
   "current_citInitial": 1,
   "eqLabelWithNumbers": true,
   "eqNumInitial": 1,
   "hotkeys": {
    "equation": "Ctrl-E",
    "itemize": "Ctrl-I"
   },
   "labels_anchors": false,
   "latex_user_defs": false,
   "report_style_numbering": false,
   "user_envs_cfg": false
  },
  "toc": {
   "nav_menu": {},
   "number_sections": true,
   "sideBar": true,
   "skip_h1_title": false,
   "title_cell": "Table of Contents",
   "title_sidebar": "Contents",
   "toc_cell": false,
   "toc_position": {},
   "toc_section_display": true,
   "toc_window_display": true
  }
 },
 "nbformat": 4,
 "nbformat_minor": 2
}
